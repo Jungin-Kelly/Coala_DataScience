{
 "cells": [
  {
   "cell_type": "code",
   "execution_count": 1,
   "metadata": {},
   "outputs": [],
   "source": [
    "a = 3 # a에 3을 집어 넣어라\n",
    "a == 3 # a는 3과 같다 "
   ]
  },
  {
   "cell_type": "code",
   "execution_count": 2,
   "metadata": {},
   "outputs": [
    {
     "name": "stdout",
     "output_type": "stream",
     "text": [
      "3\n"
     ]
    }
   ],
   "source": [
    "print(a)"
   ]
  },
  {
   "cell_type": "code",
   "execution_count": 4,
   "metadata": {},
   "outputs": [
    {
     "name": "stdout",
     "output_type": "stream",
     "text": [
      "1 2 -123 145\n"
     ]
    }
   ],
   "source": [
    "# 변수이름 가장 앞에는 숫자가 들어올 수 없음\n",
    "a = 1\n",
    "b = 2\n",
    "c = -123\n",
    "d = 145\n",
    "print(a,b,c,d)"
   ]
  },
  {
   "cell_type": "code",
   "execution_count": 6,
   "metadata": {},
   "outputs": [
    {
     "name": "stdout",
     "output_type": "stream",
     "text": [
      "579\n"
     ]
    }
   ],
   "source": [
    "add = 123 + 456\n",
    "print(add)"
   ]
  },
  {
   "cell_type": "code",
   "execution_count": 7,
   "metadata": {},
   "outputs": [
    {
     "name": "stdout",
     "output_type": "stream",
     "text": [
      "13\n"
     ]
    }
   ],
   "source": [
    "res = 3 + (2*5)\n",
    "print(res)"
   ]
  },
  {
   "cell_type": "code",
   "execution_count": 8,
   "metadata": {},
   "outputs": [
    {
     "name": "stdout",
     "output_type": "stream",
     "text": [
      "4.333333333333333\n"
     ]
    }
   ],
   "source": [
    "res = res / 3\n",
    "print(res)"
   ]
  },
  {
   "cell_type": "code",
   "execution_count": 9,
   "metadata": {},
   "outputs": [
    {
     "name": "stdout",
     "output_type": "stream",
     "text": [
      "-1228\n"
     ]
    }
   ],
   "source": [
    "print(1 + 2 -1231)  # print 안에서 계산이 가능함"
   ]
  },
  {
   "cell_type": "code",
   "execution_count": 10,
   "metadata": {},
   "outputs": [
    {
     "name": "stdout",
     "output_type": "stream",
     "text": [
      "-120\n"
     ]
    }
   ],
   "source": [
    "print(a+ b+c)"
   ]
  },
  {
   "cell_type": "markdown",
   "metadata": {},
   "source": [
    "# 변수 문자열 사용법"
   ]
  },
  {
   "cell_type": "code",
   "execution_count": 12,
   "metadata": {},
   "outputs": [
    {
     "name": "stdout",
     "output_type": "stream",
     "text": [
      "Hello world\n",
      "안녕 세상\n"
     ]
    }
   ],
   "source": [
    "a = 'Hello world'\n",
    "print(a)\n",
    "b = '안녕 세상'\n",
    "print(b)"
   ]
  },
  {
   "cell_type": "code",
   "execution_count": 13,
   "metadata": {},
   "outputs": [
    {
     "name": "stdout",
     "output_type": "stream",
     "text": [
      "Hi\n"
     ]
    }
   ],
   "source": [
    "a = \"Hi\"\n",
    "print(a)"
   ]
  },
  {
   "cell_type": "code",
   "execution_count": 14,
   "metadata": {},
   "outputs": [
    {
     "name": "stdout",
     "output_type": "stream",
     "text": [
      "Hi\n"
     ]
    }
   ],
   "source": [
    "b = a\n",
    "print(b)"
   ]
  },
  {
   "cell_type": "code",
   "execution_count": 15,
   "metadata": {},
   "outputs": [
    {
     "name": "stdout",
     "output_type": "stream",
     "text": [
      "원하는\n",
      "내용을\n",
      "편하게\n",
      "여러 줄로 입력하기\n"
     ]
    }
   ],
   "source": [
    "# 따옴표 3개 하고 내용 입력하면 긴 내용도 입력할 수 있음.\n",
    "longName = '''원하는\n",
    "내용을\n",
    "편하게\n",
    "여러 줄로 입력하기'''\n",
    "\n",
    "print(longName)"
   ]
  },
  {
   "cell_type": "markdown",
   "metadata": {},
   "source": [
    "# 변수 활용 퀴즈 "
   ]
  },
  {
   "cell_type": "code",
   "execution_count": 16,
   "metadata": {},
   "outputs": [
    {
     "name": "stdout",
     "output_type": "stream",
     "text": [
      "my name isKelly\n"
     ]
    }
   ],
   "source": [
    "# 문자열 + 문자열 ->  두 문자열이 연결되어 나옴.\n",
    "a = 'my name is'\n",
    "b = 'Kelly'\n",
    "print(a+b)"
   ]
  },
  {
   "cell_type": "code",
   "execution_count": 17,
   "metadata": {},
   "outputs": [
    {
     "name": "stdout",
     "output_type": "stream",
     "text": [
      "12344321\n"
     ]
    }
   ],
   "source": [
    "# 숫자여도 문자열로 저장되어 있으면 그냥 문자열 처럼 취급됨\n",
    "num1 = '1234'\n",
    "num2 = '4321'\n",
    "print(num1+num2)"
   ]
  },
  {
   "cell_type": "code",
   "execution_count": 18,
   "metadata": {},
   "outputs": [
    {
     "name": "stdout",
     "output_type": "stream",
     "text": [
      "R\n"
     ]
    }
   ],
   "source": [
    "k = 'p'\n",
    "p = 123\n",
    "print(k)\n",
    "\n",
    "#이렇게 한다고 해서 p안에 들어 있는 123이 출력되는 것이 아니라 \n",
    "#그냥 k로 정의된 p가 출력됨"
   ]
  },
  {
   "cell_type": "markdown",
   "metadata": {},
   "source": [
    "# if 사용하기"
   ]
  },
  {
   "cell_type": "code",
   "execution_count": 19,
   "metadata": {},
   "outputs": [
    {
     "name": "stdout",
     "output_type": "stream",
     "text": [
      "성인입니다\n"
     ]
    }
   ],
   "source": [
    "# 성인 판독기\n",
    "age = 25\n",
    "\n",
    "if age > 19:\n",
    "    print('성인입니다')\n",
    "else:\n",
    "    print('청소년 입니다')"
   ]
  },
  {
   "cell_type": "code",
   "execution_count": 21,
   "metadata": {},
   "outputs": [
    {
     "name": "stdout",
     "output_type": "stream",
     "text": [
      "가\n"
     ]
    }
   ],
   "source": [
    "# 수우미양가 판독기\n",
    "#90점 이상은 수, 80점 이상은 우, 70점 이상은 미, 60점 이상은 양, 그 외는 가\n",
    "score = 10\n",
    "\n",
    "if score >= 90:\n",
    "    print('수')\n",
    "elif score >= 80:\n",
    "    print('우')\n",
    "elif score >= 70:\n",
    "    print('미')\n",
    "elif score >= 60:\n",
    "    print('양')\n",
    "else:\n",
    "    print('가')\n",
    "   \n"
   ]
  },
  {
   "cell_type": "markdown",
   "metadata": {},
   "source": [
    "# 미션2"
   ]
  },
  {
   "cell_type": "code",
   "execution_count": 22,
   "metadata": {},
   "outputs": [
    {
     "name": "stdout",
     "output_type": "stream",
     "text": [
      "가\n"
     ]
    }
   ],
   "source": [
    "# elif 이용하기 않고 if만 사용해서 표현할 수 있음.\n",
    "score = 10\n",
    "\n",
    "if score >= 90:\n",
    "    print('수')\n",
    "if score >= 80 and score < 90:\n",
    "    print('우')\n",
    "if score >= 70 and score < 80:\n",
    "    print('미')\n",
    "if score >= 60 and score < 70:\n",
    "    print('양')\n",
    "if score < 60:\n",
    "    print('가')"
   ]
  },
  {
   "cell_type": "markdown",
   "metadata": {},
   "source": [
    "# 리스트"
   ]
  },
  {
   "cell_type": "code",
   "execution_count": 27,
   "metadata": {},
   "outputs": [
    {
     "name": "stdout",
     "output_type": "stream",
     "text": [
      "['권정인', 981126, '서울 마포 상암', '여자', 1100]\n",
      "권정인\n",
      "981126\n",
      "서울 마포 상암\n",
      "여자\n"
     ]
    }
   ],
   "source": [
    "myname = '권정인'\n",
    "birth = 981126\n",
    "addr = '서울 마포 상암'\n",
    "\n",
    "person_info = [myname, birth, addr, '여자', 1100]\n",
    "print(person_info)\n",
    "\n",
    "# 리스트명[인덱스번호] 를 통해 리스트 안에서 원하는 정보만 뽑아 낼 수 있음\n",
    "print(person_info[0])\n",
    "print(person_info[1])\n",
    "print(person_info[2])\n",
    "print(person_info[3])"
   ]
  },
  {
   "cell_type": "markdown",
   "metadata": {},
   "source": [
    "# 딕셔너리"
   ]
  },
  {
   "cell_type": "code",
   "execution_count": 28,
   "metadata": {},
   "outputs": [],
   "source": [
    "# 딕셔너리는 리스트와 비슷하지만 필드명을 지정하여 저장할 수 있음\n",
    "# 리스트 -> [] 대괄호 사용\n",
    "# 딕셔너리 -> {} 중괄호 사용"
   ]
  },
  {
   "cell_type": "code",
   "execution_count": 33,
   "metadata": {},
   "outputs": [
    {
     "name": "stdout",
     "output_type": "stream",
     "text": [
      "{'name': '권정인', 'birth': 981126, 'address': '서울 마포 상암', 'gender': '여성', 'point': 500}\n",
      "권정인\n",
      "981126\n",
      "여성\n",
      "서울 마포 상암\n"
     ]
    }
   ],
   "source": [
    "myname = '권정인'\n",
    "birth = 981126\n",
    "addr = '서울 마포 상암'\n",
    "\n",
    "user_info = {'name': myname, \n",
    "             'birth': birth,\n",
    "             'address': addr,\n",
    "             'gender': '여성',\n",
    "             'point': 500}\n",
    "print(user_info)\n",
    "\n",
    "# 딕셔너리명[키 값] 를 통해 딕셔너리 안에서 원하는 정보만 뽑아 낼 수 있음\n",
    "print(user_info['name'])\n",
    "print(user_info['birth'])\n",
    "print(user_info['gender'])\n",
    "print(user_info['address'])"
   ]
  },
  {
   "cell_type": "code",
   "execution_count": 42,
   "metadata": {},
   "outputs": [
    {
     "name": "stdout",
     "output_type": "stream",
     "text": [
      "['권정인', 981126, '서울 마포 상암', '여자', 1100]\n",
      "['권태성', 991106, '상암동', '남자', 1200]\n",
      "[['권정인', 981126, '서울 마포 상암', '여자', 1100], ['권태성', 991106, '상암동', '남자', 1200], {'name': '권정인', 'birth': 981126, 'address': '서울 마포 상암', 'gender': '여성', 'point': 500}]\n",
      "['권정인', 981126, '서울 마포 상암', '여자', 1100]\n",
      "['권태성', 991106, '상암동', '남자', 1200]\n"
     ]
    }
   ],
   "source": [
    "# 리스트와 딕셔너리 함께 사용/ 리스트 안에 리스트 \n",
    "# 리스트 안에는 리스트도 들어갈 수 있고 딕셔너리도 들어갈 수 있음\n",
    "\n",
    "person_info2 = ['권태성', 991106, '상암동', '남자', 1200]\n",
    "print(person_info)\n",
    "print(person_info2)\n",
    "\n",
    "user_list = [person_info, person_info2, user_info]\n",
    "print(user_list)\n",
    "print(user_list[0])\n",
    "print(user_list[1])"
   ]
  },
  {
   "cell_type": "code",
   "execution_count": 44,
   "metadata": {},
   "outputs": [
    {
     "name": "stdout",
     "output_type": "stream",
     "text": [
      "상암동\n"
     ]
    }
   ],
   "source": [
    "# 리스트 속 리스트를 선택해서 그 안에 있는 내용물 확인하기\n",
    "print(user_list[1][2]) # use_list 속 1번째 인덱스에 해당하는 리스트의 2번째 값"
   ]
  },
  {
   "cell_type": "code",
   "execution_count": null,
   "metadata": {},
   "outputs": [],
   "source": [
    "# 리스트 속 딕셔너리를 선택해서 그 안에 있는 내용물 확인하기\n",
    "print(user_list[2]['address'])\n",
    "# use_list 속 2번째 인덱스에 해당하는 딕셔너리의 'd' "
   ]
  }
 ],
 "metadata": {
  "kernelspec": {
   "display_name": "Python 3",
   "language": "python",
   "name": "python3"
  },
  "language_info": {
   "codemirror_mode": {
    "name": "ipython",
    "version": 3
   },
   "file_extension": ".py",
   "mimetype": "text/x-python",
   "name": "python",
   "nbconvert_exporter": "python",
   "pygments_lexer": "ipython3",
   "version": "3.7.3"
  }
 },
 "nbformat": 4,
 "nbformat_minor": 2
}
