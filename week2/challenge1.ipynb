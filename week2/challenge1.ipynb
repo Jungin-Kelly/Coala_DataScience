{
 "cells": [
  {
   "cell_type": "code",
   "execution_count": 5,
   "metadata": {},
   "outputs": [
    {
     "name": "stdout",
     "output_type": "stream",
     "text": [
      "1단계: 전체출력하기\n",
      "[{'name': '권정인', 'phone': '01027552969'}, {'name': '장선향', 'phone': '01076442969'}, {'name': '권대영', 'phone': '01027302969'}]\n",
      "2단계: 장선향 정보만 출력하기\n",
      "{'name': '권대영', 'phone': '01027302969'}\n"
     ]
    }
   ],
   "source": [
    "phonebook = [\n",
    "    {\n",
    "        'name': '권정인',\n",
    "        'phone' : '01027552969'\n",
    "    }, {\n",
    "        'name': '장선향',\n",
    "        'phone': '01076442969'\n",
    "    }, {\n",
    "        'name': '권대영',\n",
    "        'phone': '01027302969'\n",
    "    }\n",
    "        \n",
    "]\n",
    "\n",
    "# 1단계\n",
    "print('1단계: 전체출력하기')\n",
    "print(phonebook)\n",
    "\n",
    "# 2단계\n",
    "print('2단계: 장선향 정보만 출력하기')\n",
    "print(phonebook[2])"
   ]
  },
  {
   "cell_type": "code",
   "execution_count": null,
   "metadata": {},
   "outputs": [],
   "source": []
  }
 ],
 "metadata": {
  "kernelspec": {
   "display_name": "Python 3",
   "language": "python",
   "name": "python3"
  },
  "language_info": {
   "codemirror_mode": {
    "name": "ipython",
    "version": 3
   },
   "file_extension": ".py",
   "mimetype": "text/x-python",
   "name": "python",
   "nbconvert_exporter": "python",
   "pygments_lexer": "ipython3",
   "version": "3.7.3"
  }
 },
 "nbformat": 4,
 "nbformat_minor": 2
}
