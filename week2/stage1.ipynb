{
 "cells": [
  {
   "cell_type": "code",
   "execution_count": 1,
   "metadata": {},
   "outputs": [
    {
     "name": "stdout",
     "output_type": "stream",
     "text": [
      "hello world!\n"
     ]
    }
   ],
   "source": [
    "print(\"hello world!\")"
   ]
  },
  {
   "cell_type": "markdown",
   "metadata": {},
   "source": [
    "코드를 입력 \n",
    "마크다운 모드로 하면 오류가 나지 않음.\n",
    "코드를 작성하는 동시에 도큐먼트로 만들 수 있음.\n",
    "셀 선택 -> code를 markdown으로 바꾸면됨."
   ]
  },
  {
   "cell_type": "markdown",
   "metadata": {},
   "source": [
    "# 큰제목\n",
    "## 작은제목 (반드시 ##뒤에 띄어쓰기)\n",
    "#### 샵이 많아질 수록 글자의 크기가 작아짐####\n",
    "일반텍스트\n",
    "\n",
    "*기울여주세요*\n",
    "\n",
    "**진하게**\n",
    "\n",
    "`파이썬`,`데이터` (움라우트 -> 음영표시 할 수 있음)"
   ]
  },
  {
   "cell_type": "markdown",
   "metadata": {},
   "source": [
    "# 순서 없는 리스트\n",
    "*'-'하고 띄어쓰기 해야함/ 하위 리스트는 띄어쓰기 2번 '-'하고 다시 띄어쓰기\n",
    "\n",
    "- 딸기\n",
    "  - 산딸기 \n",
    "    - 비싼 딸기 \n",
    "  - 바다딸기\n",
    "- 토마토\n",
    "- 감자\n",
    "\n",
    "# 순서 있는 리스트\n",
    "* 얜 걍 숫자 입력하고 하면 됨.\n",
    "\n",
    "1. 권정인  \n",
    "  1. 권정팔\n",
    "  2. 켈리\n",
    "2. 권태성\n",
    "3. 장선향"
   ]
  },
  {
   "cell_type": "markdown",
   "metadata": {},
   "source": [
    "#이미지와 링크 삽입하기\n",
    "------------\n",
    "## 이미지\n",
    "*얜 나중에 중간에 마침표 들어갈건데 실제 입력할 땐 마침표 없어도 됨.\n",
    "**![사진설명](이미지주소)**\n",
    "![대동강감자](https://i.ytimg.com/vi/HkWXp5jWTnY/hqdefault.jpg) \n",
    "\n",
    "\n",
    "## 링크\n",
    "**[링크텍스트](링크주소)**\n",
    "[링크텍스트](https://i.ytimg.com/vi/HkWXp5jWTnY/hqdefault.jpg)\n"
   ]
  },
  {
   "cell_type": "markdown",
   "metadata": {},
   "source": [
    "## 코드넣기\n",
    "코드입니다.\n",
    "```python\n",
    "print('hello human')\n",
    "```\n",
    "실행되지 않습니다.\n",
    "\n",
    "## 인용구\n",
    ">저는\n",
    ">권정인\n",
    ">입니다.\n",
    "\n",
    "->이렇게 입력하면 한 줄에 다 나옴  \n",
    "-> 행구분하고 싶으면 맨 오른쪽에 스페이스바 2번 눌러주면 됨."
   ]
  },
  {
   "cell_type": "markdown",
   "metadata": {},
   "source": [
    "# 표 만들기\n",
    "\n",
    "이름| 전화번호 | 이메일\n",
    "-|-|-\n",
    "A|010|abc.com\n",
    "B|070|c.com"
   ]
  },
  {
   "cell_type": "code",
   "execution_count": null,
   "metadata": {},
   "outputs": [],
   "source": []
  }
 ],
 "metadata": {
  "kernelspec": {
   "display_name": "Python 3",
   "language": "python",
   "name": "python3"
  },
  "language_info": {
   "codemirror_mode": {
    "name": "ipython",
    "version": 3
   },
   "file_extension": ".py",
   "mimetype": "text/x-python",
   "name": "python",
   "nbconvert_exporter": "python",
   "pygments_lexer": "ipython3",
   "version": "3.7.3"
  }
 },
 "nbformat": 4,
 "nbformat_minor": 2
}
